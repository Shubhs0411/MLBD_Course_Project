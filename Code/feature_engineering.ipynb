{
 "cells": [
  {
   "cell_type": "markdown",
   "metadata": {},
   "source": [
    "Reading the csv file"
   ]
  },
  {
   "cell_type": "code",
   "execution_count": 1,
   "metadata": {},
   "outputs": [],
   "source": [
    "import pandas as pd"
   ]
  },
  {
   "cell_type": "code",
   "execution_count": 2,
   "metadata": {},
   "outputs": [
    {
     "name": "stdout",
     "output_type": "stream",
     "text": [
      "<class 'pandas.core.frame.DataFrame'>\n",
      "RangeIndex: 3250000 entries, 0 to 3249999\n",
      "Data columns (total 18 columns):\n",
      " #   Column                       Dtype  \n",
      "---  ------                       -----  \n",
      " 0   id                           int64  \n",
      " 1   age                          float64\n",
      " 2   gender                       object \n",
      " 3   country                      object \n",
      " 4   diagnosis_date               object \n",
      " 5   cancer_stage                 object \n",
      " 6   beginning_of_treatment_date  object \n",
      " 7   family_history               object \n",
      " 8   smoking_status               object \n",
      " 9   bmi                          float64\n",
      " 10  cholesterol_level            int64  \n",
      " 11  hypertension                 int64  \n",
      " 12  asthma                       int64  \n",
      " 13  cirrhosis                    int64  \n",
      " 14  other_cancer                 int64  \n",
      " 15  treatment_type               object \n",
      " 16  end_treatment_date           object \n",
      " 17  survived                     int64  \n",
      "dtypes: float64(2), int64(7), object(9)\n",
      "memory usage: 446.3+ MB\n"
     ]
    }
   ],
   "source": [
    "df=pd.read_csv(\"Data/lung_cancer_mortality_data_large_v2.csv\")\n",
    "df.info()"
   ]
  },
  {
   "cell_type": "code",
   "execution_count": 3,
   "metadata": {},
   "outputs": [
    {
     "name": "stdout",
     "output_type": "stream",
     "text": [
      "<class 'pandas.core.frame.DataFrame'>\n",
      "RangeIndex: 100000 entries, 0 to 99999\n",
      "Data columns (total 55 columns):\n",
      " #   Column                         Non-Null Count   Dtype  \n",
      "---  ------                         --------------   -----  \n",
      " 0   id                             100000 non-null  int64  \n",
      " 1   age                            100000 non-null  float64\n",
      " 2   diagnosis_date                 100000 non-null  object \n",
      " 3   beginning_of_treatment_date    100000 non-null  object \n",
      " 4   bmi                            100000 non-null  float64\n",
      " 5   cholesterol_level              100000 non-null  int64  \n",
      " 6   hypertension                   100000 non-null  int64  \n",
      " 7   asthma                         100000 non-null  int64  \n",
      " 8   cirrhosis                      100000 non-null  int64  \n",
      " 9   other_cancer                   100000 non-null  int64  \n",
      " 10  end_treatment_date             100000 non-null  object \n",
      " 11  survived                       100000 non-null  int64  \n",
      " 12  gender_Female                  100000 non-null  bool   \n",
      " 13  gender_Male                    100000 non-null  bool   \n",
      " 14  country_Austria                100000 non-null  bool   \n",
      " 15  country_Belgium                100000 non-null  bool   \n",
      " 16  country_Bulgaria               100000 non-null  bool   \n",
      " 17  country_Croatia                100000 non-null  bool   \n",
      " 18  country_Cyprus                 100000 non-null  bool   \n",
      " 19  country_Czech Republic         100000 non-null  bool   \n",
      " 20  country_Denmark                100000 non-null  bool   \n",
      " 21  country_Estonia                100000 non-null  bool   \n",
      " 22  country_Finland                100000 non-null  bool   \n",
      " 23  country_France                 100000 non-null  bool   \n",
      " 24  country_Germany                100000 non-null  bool   \n",
      " 25  country_Greece                 100000 non-null  bool   \n",
      " 26  country_Hungary                100000 non-null  bool   \n",
      " 27  country_Ireland                100000 non-null  bool   \n",
      " 28  country_Italy                  100000 non-null  bool   \n",
      " 29  country_Latvia                 100000 non-null  bool   \n",
      " 30  country_Lithuania              100000 non-null  bool   \n",
      " 31  country_Luxembourg             100000 non-null  bool   \n",
      " 32  country_Malta                  100000 non-null  bool   \n",
      " 33  country_Netherlands            100000 non-null  bool   \n",
      " 34  country_Poland                 100000 non-null  bool   \n",
      " 35  country_Portugal               100000 non-null  bool   \n",
      " 36  country_Romania                100000 non-null  bool   \n",
      " 37  country_Slovakia               100000 non-null  bool   \n",
      " 38  country_Slovenia               100000 non-null  bool   \n",
      " 39  country_Spain                  100000 non-null  bool   \n",
      " 40  country_Sweden                 100000 non-null  bool   \n",
      " 41  cancer_stage_Stage I           100000 non-null  bool   \n",
      " 42  cancer_stage_Stage II          100000 non-null  bool   \n",
      " 43  cancer_stage_Stage III         100000 non-null  bool   \n",
      " 44  cancer_stage_Stage IV          100000 non-null  bool   \n",
      " 45  family_history_No              100000 non-null  bool   \n",
      " 46  family_history_Yes             100000 non-null  bool   \n",
      " 47  smoking_status_Current Smoker  100000 non-null  bool   \n",
      " 48  smoking_status_Former Smoker   100000 non-null  bool   \n",
      " 49  smoking_status_Never Smoked    100000 non-null  bool   \n",
      " 50  smoking_status_Passive Smoker  100000 non-null  bool   \n",
      " 51  treatment_type_Chemotherapy    100000 non-null  bool   \n",
      " 52  treatment_type_Combined        100000 non-null  bool   \n",
      " 53  treatment_type_Radiation       100000 non-null  bool   \n",
      " 54  treatment_type_Surgery         100000 non-null  bool   \n",
      "dtypes: bool(43), float64(2), int64(7), object(3)\n",
      "memory usage: 13.3+ MB\n"
     ]
    }
   ],
   "source": [
    "import pandas as pd\n",
    "\n",
    "# Load the first 100,000 rows from the CSV file\n",
    "df = pd.read_csv(\"lung_cancer_mortality_data_large_v2.csv\", nrows=100000)\n",
    "\n",
    "# Identify categorical columns\n",
    "categorical_columns = ['gender', 'country', 'cancer_stage', 'family_history', \n",
    "                       'smoking_status', 'treatment_type']\n",
    "\n",
    "# Perform one-hot encoding on categorical columns\n",
    "df_encoded = pd.get_dummies(df, columns=categorical_columns)\n",
    "\n",
    "# Check the result\n",
    "df_encoded.info()\n",
    "\n",
    "# Optionally, you can save the result to a new CSV file\n",
    "#df_encoded.to_csv(\"lung_cancer_mortality_encoded.csv\", index=False)\n"
   ]
  },
  {
   "cell_type": "markdown",
   "metadata": {},
   "source": [
    "Applying feature engineering"
   ]
  },
  {
   "cell_type": "code",
   "execution_count": 11,
   "metadata": {},
   "outputs": [
    {
     "name": "stderr",
     "output_type": "stream",
     "text": [
      "/Users/shubhamlaxmikantdeshmukh/anaconda3/lib/python3.11/site-packages/featuretools/synthesis/deep_feature_synthesis.py:169: UserWarning: Only one dataframe in entityset, changing max_depth to 1 since deeper features cannot be created\n",
      "  warnings.warn(\n",
      "/Users/shubhamlaxmikantdeshmukh/anaconda3/lib/python3.11/site-packages/featuretools/synthesis/dfs.py:321: UnusedPrimitiveWarning: Some specified primitives were not used during DFS:\n",
      "  agg_primitives: ['count', 'max', 'mean', 'median', 'min', 'mode', 'num_true', 'skew', 'std', 'sum']\n",
      "This may be caused by a using a value of max_depth that is too small, not setting interesting values, or it may indicate no compatible columns for the primitive were found in the data. If the DFS call contained multiple instances of a primitive in the list above, none of them were used.\n",
      "  warnings.warn(warning_msg, UnusedPrimitiveWarning)\n"
     ]
    },
    {
     "name": "stdout",
     "output_type": "stream",
     "text": [
      "<class 'pandas.core.frame.DataFrame'>\n",
      "Index: 700000 entries, 1 to 700000\n",
      "Columns: 225 entries, age to survived\n",
      "dtypes: bool(43), boolean(6), category(9), float64(161), int64(6)\n",
      "memory usage: 942.2 MB\n",
      "None\n"
     ]
    }
   ],
   "source": [
    "import pandas as pd\n",
    "import featuretools as ft\n",
    "\n",
    "# Step 1: Load the first 100,000 rows from the CSV file\n",
    "df = pd.read_csv(\"lung_cancer_mortality_data_large_v2.csv\", nrows=700000)\n",
    "\n",
    "# Step 2: Identify categorical columns to perform one-hot encoding\n",
    "categorical_columns = ['gender', 'country', 'cancer_stage', 'family_history', \n",
    "                       'smoking_status', 'treatment_type']\n",
    "\n",
    "# Step 3: Perform one-hot encoding on the specified categorical columns\n",
    "df_encoded = pd.get_dummies(df, columns=categorical_columns)\n",
    "\n",
    "# Step 4: Apply Featuretools for automated feature engineering\n",
    "\n",
    "# Create an EntitySet for Featuretools\n",
    "es = ft.EntitySet(id=\"lung_cancer_data\")\n",
    "\n",
    "# Add the dataframe to the EntitySet using `add_dataframe` method\n",
    "es = es.add_dataframe(dataframe_name=\"mortality\", dataframe=df_encoded, index=\"id\")\n",
    "\n",
    "# Step 5: Define compatible aggregation and transformation primitives to increase features\n",
    "\n",
    "# Aggregation primitives\n",
    "agg_primitives = [\"count\", \"mean\", \"mode\", \"sum\", \"min\", \"max\", \"std\", \"median\", \n",
    "                  \"skew\", \"num_true\"]\n",
    "\n",
    "# Transformation primitives\n",
    "trans_primitives = [\"multiply_numeric\", \"divide_numeric\", \"time_since\", \"day\", \n",
    "                    \"month\", \"year\", \"add_numeric\", \"subtract_numeric\", \n",
    "                    \"absolute\", \"percentile\", \"is_weekend\", \"is_leap_year\"]\n",
    "\n",
    "# Run DFS to generate new features using the extended primitives and set max_depth for deeper features\n",
    "feature_matrix, feature_defs = ft.dfs(entityset=es, \n",
    "                                      target_dataframe_name=\"mortality\", \n",
    "                                      agg_primitives=agg_primitives,\n",
    "                                      trans_primitives=trans_primitives,\n",
    "                                      max_features=250,  # Limit to 250 features\n",
    "                                      max_depth=2)       # Increase depth for more complex features\n",
    "\n",
    "# Step 6: Ensure 'survived' is the target variable\n",
    "# Remove 'survived' from the feature matrix to prevent data leakage during feature generation\n",
    "if 'survived' in feature_matrix.columns:\n",
    "    feature_matrix = feature_matrix.drop('survived', axis=1)\n",
    "\n",
    "# Add the original 'survived' column back to the feature matrix\n",
    "feature_matrix['survived'] = df_encoded['survived']\n",
    "\n",
    "# Step 7: Save the final feature matrix to a CSV file\n",
    "feature_matrix.to_csv(\"lung_cancer_mortality_featured.csv\", index=False)\n",
    "\n",
    "# Check the new feature matrix structure\n",
    "print(feature_matrix.info())\n"
   ]
  },
  {
   "cell_type": "code",
   "execution_count": null,
   "metadata": {},
   "outputs": [],
   "source": []
  },
  {
   "cell_type": "code",
   "execution_count": null,
   "metadata": {},
   "outputs": [],
   "source": []
  }
 ],
 "metadata": {
  "kernelspec": {
   "display_name": "Python 3 (ipykernel)",
   "language": "python",
   "name": "python3"
  },
  "language_info": {
   "codemirror_mode": {
    "name": "ipython",
    "version": 3
   },
   "file_extension": ".py",
   "mimetype": "text/x-python",
   "name": "python",
   "nbconvert_exporter": "python",
   "pygments_lexer": "ipython3",
   "version": "3.11.5"
  }
 },
 "nbformat": 4,
 "nbformat_minor": 4
}
